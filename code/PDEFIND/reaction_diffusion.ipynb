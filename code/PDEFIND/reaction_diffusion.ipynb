{
 "cells": [
  {
   "cell_type": "code",
   "execution_count": 1,
   "metadata": {
    "collapsed": true
   },
   "outputs": [
    {
     "name": "stdout",
     "output_type": "stream",
     "text": [
      "Populating the interactive namespace from numpy and matplotlib\n"
     ]
    }
   ],
   "source": [
    "%pylab inline\n",
    "pylab.rcParams['figure.figsize'] = (12, 8)\n",
    "import numpy as np\n",
    "from mpl_toolkits.mplot3d import Axes3D\n",
    "import sys; sys.path.append('../')\n",
    "from PDE_FIND import *\n",
    "import scipy.io as sio\n",
    "import itertools"
   ]
  },
  {
   "cell_type": "code",
   "execution_count": 3,
   "outputs": [],
   "source": [
    "data = sio.loadmat('/Users/edwardmcdugald/Research/convection_patterns/code/data/rd1.mat')"
   ],
   "metadata": {
    "collapsed": false,
    "pycharm": {
     "name": "#%%\n"
    }
   }
  },
  {
   "cell_type": "code",
   "execution_count": 5,
   "outputs": [],
   "source": [
    "t = data['t'].T[:,0]\n",
    "x = data['x'][0,:]\n",
    "y = data['y'][0,:]\n",
    "U = data['uf']\n",
    "V = data['vf']\n",
    "\n",
    "n = len(x) # also the length of y\n",
    "steps = len(t)\n",
    "dx = x[2]-x[1]\n",
    "dy = y[2]-y[1]\n",
    "dt = t[2]-t[1]\n",
    "\n",
    "pylab.rcParams['figure.figsize'] = (12, 6)\n",
    "figure()\n",
    "xx, yy = meshgrid(\n",
    "    np.arange(n)*dx,\n",
    "    np.arange(n)*dy)\n",
    "subplot(1,2,1)\n",
    "pcolor(xx,yy,U[:,:,10],cmap='coolwarm')\n",
    "title('U', fontsize = 20)\n",
    "xlabel('x', fontsize = 16)\n",
    "ylabel('y', fontsize = 16)\n",
    "subplot(1,2,2)\n",
    "pcolor(xx,yy,V[:,:,10],cmap='coolwarm')\n",
    "title('V', fontsize = 20)\n",
    "xlabel('x', fontsize = 16)\n",
    "ylabel('y', fontsize = 16)\n",
    "pylab.rcParams['figure.figsize'] = (12, 8)"
   ],
   "metadata": {
    "collapsed": false,
    "pycharm": {
     "name": "#%%\n"
    }
   }
  },
  {
   "cell_type": "code",
   "execution_count": null,
   "outputs": [],
   "source": [
    "# Sample a collection of data points.  See figure 1 panel 2a.\n",
    "numpy.random.seed(0) # so that numbers in paper are reproducible\n",
    "\n",
    "num_xy = 5000 # needs to be very high to work with noise\n",
    "num_t = 30\n",
    "num_points = num_xy * num_t\n",
    "boundary = 5\n",
    "points = {}\n",
    "count = 0\n",
    "\n",
    "for p in range(num_xy):\n",
    "    x = np.random.choice(np.arange(boundary,n-boundary),1)[0]\n",
    "    y = np.random.choice(np.arange(boundary,n-boundary),1)[0]\n",
    "    for t in range(num_t):\n",
    "        points[count] = [x,y,6*t+10]\n",
    "        count = count + 1"
   ],
   "metadata": {
    "collapsed": false,
    "pycharm": {
     "name": "#%%\n"
    }
   }
  },
  {
   "cell_type": "code",
   "execution_count": null,
   "outputs": [],
   "source": [
    "# Take up to second order derivatives.\n",
    "u = np.zeros((num_points,1))\n",
    "v = np.zeros((num_points,1))\n",
    "ut = np.zeros((num_points,1))\n",
    "vt = np.zeros((num_points,1))\n",
    "ux = np.zeros((num_points,1))\n",
    "uy = np.zeros((num_points,1))\n",
    "uxx = np.zeros((num_points,1))\n",
    "uxy = np.zeros((num_points,1))\n",
    "uyy = np.zeros((num_points,1))\n",
    "vx = np.zeros((num_points,1))\n",
    "vy = np.zeros((num_points,1))\n",
    "vxx = np.zeros((num_points,1))\n",
    "vxy = np.zeros((num_points,1))\n",
    "vyy = np.zeros((num_points,1))\n",
    "\n",
    "N = 2*boundary-1  # number of points to use in fitting\n",
    "Nt = N\n",
    "deg = 4 # degree of polynomial to use\n",
    "\n",
    "for p in points.keys():\n",
    "\n",
    "    [x,y,t] = points[p]\n",
    "\n",
    "    # value of function\n",
    "    u[p] = U[x,y,t]\n",
    "    v[p] = V[x,y,t]\n",
    "\n",
    "    # time derivatives\n",
    "    ut[p] = PolyDiffPoint(U[x,y,t-(Nt-1)//2:t+(Nt+1)//2], np.arange(Nt)*dt, deg, 1)[0]\n",
    "    vt[p] = PolyDiffPoint(V[x,y,t-(Nt-1)//2:t+(Nt+1)//2], np.arange(Nt)*dt, deg, 1)[0]\n",
    "\n",
    "    # spatial derivatives\n",
    "    ux_diff = PolyDiffPoint(U[x-(N-1)//2:x+(N+1)//2,y,t], np.arange(N)*dx, deg, 2)\n",
    "    uy_diff = PolyDiffPoint(U[x,y-(N-1)//2:y+(N+1)//2,t], np.arange(N)*dy, deg, 2)\n",
    "    vx_diff = PolyDiffPoint(V[x-(N-1)//2:x+(N+1)//2,y,t], np.arange(N)*dx, deg, 2)\n",
    "    vy_diff = PolyDiffPoint(V[x,y-(N-1)//2:y+(N+1)//2,t], np.arange(N)*dy, deg, 2)\n",
    "    ux_diff_yp = PolyDiffPoint(U[x-(N-1)//2:x+(N+1)//2,y+1,t], np.arange(N)*dx, deg, 2)\n",
    "    ux_diff_ym = PolyDiffPoint(U[x-(N-1)//2:x+(N+1)//2,y-1,t], np.arange(N)*dx, deg, 2)\n",
    "    vx_diff_yp = PolyDiffPoint(V[x-(N-1)//2:x+(N+1)//2,y+1,t], np.arange(N)*dx, deg, 2)\n",
    "    vx_diff_ym = PolyDiffPoint(V[x-(N-1)//2:x+(N+1)//2,y-1,t], np.arange(N)*dx, deg, 2)\n",
    "\n",
    "    ux[p] = ux_diff[0]\n",
    "    uy[p] = uy_diff[0]\n",
    "    uxx[p] = ux_diff[1]\n",
    "    uxy[p] = (ux_diff_yp[0]-ux_diff_ym[0])/(2*dy)\n",
    "    uyy[p] = uy_diff[1]\n",
    "\n",
    "    vx[p] = vx_diff[0]\n",
    "    vy[p] = vy_diff[0]\n",
    "    vxx[p] = vx_diff[1]\n",
    "    vxy[p] = (vx_diff_yp[0]-vx_diff_ym[0])/(2*dy)\n",
    "    vyy[p] = vy_diff[1]"
   ],
   "metadata": {
    "collapsed": false,
    "pycharm": {
     "name": "#%%\n"
    }
   }
  },
  {
   "cell_type": "code",
   "execution_count": null,
   "outputs": [],
   "source": [
    "# Form Theta using up to quadratic polynomials in all variables.\n",
    "X_data = np.hstack([u,v])\n",
    "X_ders = np.hstack([np.ones((num_points,1)), ux, uy, uxx, uxy, uyy, vx, vy, vxx, vxy, vyy])\n",
    "X_ders_descr = ['','u_{x}', 'u_{y}','u_{xx}','u_{xy}','u_{yy}','v_{x}', 'v_{y}','v_{xx}','v_{xy}','v_{yy}']\n",
    "X, description = build_Theta(X_data, X_ders, X_ders_descr, 3, data_description = ['u','v'])\n",
    "['1'] + description[1:]"
   ],
   "metadata": {
    "collapsed": false,
    "pycharm": {
     "name": "#%%\n"
    }
   }
  },
  {
   "cell_type": "code",
   "execution_count": null,
   "outputs": [],
   "source": [
    "c = TrainSTRidge(X,ut,10**-5,1)\n",
    "print_pde(c, description)"
   ],
   "metadata": {
    "collapsed": false,
    "pycharm": {
     "name": "#%%\n"
    }
   }
  },
  {
   "cell_type": "code",
   "execution_count": null,
   "outputs": [],
   "source": [
    "c = TrainSTRidge(X,vt,10**-5,1)\n",
    "print_pde(c, description, ut = 'v_t')"
   ],
   "metadata": {
    "collapsed": false,
    "pycharm": {
     "name": "#%%\n"
    }
   }
  },
  {
   "cell_type": "code",
   "execution_count": null,
   "outputs": [],
   "source": [
    "err = abs(np.array([(0.1-0.099977)*100/0.1,  (0.1-0.100033)*100/0.1,\n",
    "                    (0.1-0.100009)*100/0.1,  (0.1-0.099971)*100/0.1,\n",
    "                    (1-0.999887)*100,        (1-1.000335)*100,\n",
    "                    (1-0.999906)*100,        (1-0.999970)*100,\n",
    "                    (1-0.999980)*100,        (1-0.999978)*100,\n",
    "                    (1-0.999976)*100,        (1-1.000353)*100,\n",
    "                    (1-0.999923)*100,        (1-1.000332)*100]))\n",
    "print(mean(err))\n",
    "print(std(err))"
   ],
   "metadata": {
    "collapsed": false,
    "pycharm": {
     "name": "#%%\n"
    }
   }
  },
  {
   "cell_type": "code",
   "execution_count": null,
   "outputs": [],
   "source": [
    "# Now try adding noise.\n",
    "numpy.random.seed(0)\n",
    "Un = U + 0.005*std(U)*np.random.randn(n,n,steps)\n",
    "Vn = V + 0.005*std(V)*np.random.randn(n,n,steps)"
   ],
   "metadata": {
    "collapsed": false,
    "pycharm": {
     "name": "#%%\n"
    }
   }
  },
  {
   "cell_type": "code",
   "execution_count": null,
   "outputs": [],
   "source": [
    "# Denoise using POD.\n",
    "FUn = Un.reshape(n**2,steps)\n",
    "FVn = Vn.reshape(n**2,steps)"
   ],
   "metadata": {
    "collapsed": false,
    "pycharm": {
     "name": "#%%\n"
    }
   }
  },
  {
   "cell_type": "code",
   "execution_count": null,
   "outputs": [],
   "source": [
    "uun,usn,uvn = np.linalg.svd(FUn, full_matrices = False)\n",
    "vun,vsn,vvn = np.linalg.svd(FVn, full_matrices = False)"
   ],
   "metadata": {
    "collapsed": false,
    "pycharm": {
     "name": "#%%\n"
    }
   }
  },
  {
   "cell_type": "code",
   "execution_count": null,
   "outputs": [],
   "source": [
    "semilogy(usn)\n",
    "semilogy(vsn)"
   ],
   "metadata": {
    "collapsed": false,
    "pycharm": {
     "name": "#%%\n"
    }
   }
  },
  {
   "cell_type": "code",
   "execution_count": null,
   "outputs": [],
   "source": [
    "dim = 15\n",
    "Un = (uun[:,:dim].dot(np.diag(usn[:dim]).dot(uvn[:dim,:]))).reshape(n,n,steps)\n",
    "Vn = (vun[:,:dim].dot(np.diag(vsn[:dim]).dot(vvn[:dim,:]))).reshape(n,n,steps)"
   ],
   "metadata": {
    "collapsed": false,
    "pycharm": {
     "name": "#%%\n"
    }
   }
  },
  {
   "cell_type": "code",
   "execution_count": null,
   "outputs": [],
   "source": [
    "# Take up to second order derivatives.\n",
    "un = np.zeros((num_points,1))\n",
    "vn = np.zeros((num_points,1))\n",
    "utn = np.zeros((num_points,1))\n",
    "vtn = np.zeros((num_points,1))\n",
    "uxn = np.zeros((num_points,1))\n",
    "uyn = np.zeros((num_points,1))\n",
    "uxxn = np.zeros((num_points,1))\n",
    "uxyn = np.zeros((num_points,1))\n",
    "uyyn = np.zeros((num_points,1))\n",
    "vxn = np.zeros((num_points,1))\n",
    "vyn = np.zeros((num_points,1))\n",
    "vxxn = np.zeros((num_points,1))\n",
    "vxyn = np.zeros((num_points,1))\n",
    "vyyn = np.zeros((num_points,1))\n",
    "\n",
    "N = 2*boundary-1  # number of points to use in fitting polynomial for spatial derivative\n",
    "Nt = N # and for time derivatives\n",
    "deg = 4 # degree of polynomial to use\n",
    "\n",
    "for p in points.keys():\n",
    "\n",
    "    [x,y,t] = points[p]\n",
    "\n",
    "    # value of function\n",
    "    un[p] = Un[x,y,t]\n",
    "    vn[p] = Vn[x,y,t]\n",
    "\n",
    "    # time derivatives\n",
    "    utn[p] = PolyDiffPoint(Un[x,y,t-(Nt-1)//2:t+(Nt+1)//2], np.arange(Nt)*dt, deg, 1)[0]\n",
    "    vtn[p] = PolyDiffPoint(Vn[x,y,t-(Nt-1)//2:t+(Nt+1)//2], np.arange(Nt)*dt, deg, 1)[0]\n",
    "\n",
    "    # spatial derivatives\n",
    "    ux_diff_n = PolyDiffPoint(Un[x-(N-1)//2:x+(N+1)//2,y,t], np.arange(N)*dx, deg, 2)\n",
    "    uy_diff_n = PolyDiffPoint(Un[x,y-(N-1)//2:y+(N+1)//2,t], np.arange(N)*dy, deg, 2)\n",
    "    vx_diff_n = PolyDiffPoint(Vn[x-(N-1)//2:x+(N+1)//2,y,t], np.arange(N)*dx, deg, 2)\n",
    "    vy_diff_n = PolyDiffPoint(Vn[x,y-(N-1)//2:y+(N+1)//2,t], np.arange(N)*dy, deg, 2)\n",
    "    ux_diff_yp_n = PolyDiffPoint(Un[x-(N-1)//2:x+(N+1)//2,y+1,t], np.arange(N)*dx, deg, 2)\n",
    "    ux_diff_ym_n = PolyDiffPoint(Un[x-(N-1)//2:x+(N+1)//2,y-1,t], np.arange(N)*dx, deg, 2)\n",
    "    vx_diff_yp_n = PolyDiffPoint(Vn[x-(N-1)//2:x+(N+1)//2,y+1,t], np.arange(N)*dx, deg, 2)\n",
    "    vx_diff_ym_n = PolyDiffPoint(Vn[x-(N-1)//2:x+(N+1)//2,y-1,t], np.arange(N)*dx, deg, 2)\n",
    "\n",
    "    uxn[p] = ux_diff_n[0]\n",
    "    uyn[p] = uy_diff_n[0]\n",
    "    uxxn[p] = ux_diff_n[1]\n",
    "    uxyn[p] = (ux_diff_yp_n[0]-ux_diff_ym_n[0])/(2*dy)\n",
    "    uyyn[p] = uy_diff_n[1]\n",
    "\n",
    "    vxn[p] = vx_diff_n[0]\n",
    "    vyn[p] = vy_diff_n[0]\n",
    "    vxxn[p] = vx_diff_n[1]\n",
    "    vxyn[p] = (vx_diff_yp_n[0]-vx_diff_ym_n[0])/(2*dy)\n",
    "    vyyn[p] = vy_diff_n[1]"
   ],
   "metadata": {
    "collapsed": false,
    "pycharm": {
     "name": "#%%\n"
    }
   }
  },
  {
   "cell_type": "code",
   "execution_count": null,
   "outputs": [],
   "source": [
    "# Form Theta using up to quadratic polynomials in all variables.\n",
    "X_data_n = np.hstack([un,vn])\n",
    "X_ders_n = np.hstack([np.ones((num_points,1)), uxn, uyn, uxxn, uxyn, uyyn, vxn, vyn, vxxn, vxyn, vyyn])\n",
    "X_ders_descr = ['','u_{x}', 'u_{y}','u_{xx}','u_{xy}','u_{yy}','v_{x}', 'v_{y}','v_{xx}','v_{xy}','v_{yy}']\n",
    "X_n, description = build_Theta(X_data_n, X_ders_n, X_ders_descr, 3, data_description = ['u','v'])"
   ],
   "metadata": {
    "collapsed": false,
    "pycharm": {
     "name": "#%%\n"
    }
   }
  },
  {
   "cell_type": "code",
   "execution_count": null,
   "outputs": [],
   "source": [
    "lam = 10**-5\n",
    "d_tol = 1\n",
    "c = TrainSTRidge(X_n,utn,lam,d_tol)\n",
    "print_pde(c, description)"
   ],
   "metadata": {
    "collapsed": false,
    "pycharm": {
     "name": "#%%\n"
    }
   }
  },
  {
   "cell_type": "code",
   "execution_count": null,
   "outputs": [],
   "source": [
    "lam = 10**-5\n",
    "d_tol = 1\n",
    "c = TrainSTRidge(X_n,vtn,lam,d_tol)\n",
    "print_pde(c, description, ut = 'v_t')"
   ],
   "metadata": {
    "collapsed": false,
    "pycharm": {
     "name": "#%%\n"
    }
   }
  },
  {
   "cell_type": "code",
   "execution_count": null,
   "outputs": [],
   "source": [
    "err = abs(np.array([(0.1-0.094870)*100/0.1,  (0.1-0.094934)*100/0.1,\n",
    "                    (0.1-0.094970)*100/0.1,  (0.1-0.094939)*100/0.1,\n",
    "                    (1-0.944877)*100,        (1-0.946222)*100,\n",
    "                    (1-0.944831)*100,        (1-0.999442)*100,\n",
    "                    (1-0.999758)*100,        (1-0.999674)*100,\n",
    "                    (1-0.999770)*100,        (1-0.946074)*100,\n",
    "                    (1-0.945130)*100,        (1-0.945752)*100]))\n",
    "print(mean(err))\n",
    "print(std(err))"
   ],
   "metadata": {
    "collapsed": false,
    "pycharm": {
     "name": "#%%\n"
    }
   }
  }
 ],
 "metadata": {
  "kernelspec": {
   "display_name": "Python 3",
   "language": "python",
   "name": "python3"
  },
  "language_info": {
   "codemirror_mode": {
    "name": "ipython",
    "version": 2
   },
   "file_extension": ".py",
   "mimetype": "text/x-python",
   "name": "python",
   "nbconvert_exporter": "python",
   "pygments_lexer": "ipython2",
   "version": "2.7.6"
  }
 },
 "nbformat": 4,
 "nbformat_minor": 0
}