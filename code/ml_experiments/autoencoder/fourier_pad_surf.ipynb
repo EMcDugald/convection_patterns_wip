{
 "cells": [
  {
   "cell_type": "markdown",
   "source": [
    "\\begin{align*}\n",
    "x &= y\n",
    "\\end{align*}"
   ],
   "metadata": {
    "collapsed": false
   }
  },
  {
   "cell_type": "code",
   "execution_count": null,
   "outputs": [],
   "source": [
    "import scipy.io as sio\n",
    "import numpy as np\n",
    "import sys\n",
    "import matplotlib.pyplot as plt\n",
    "sys.path.append('/Users/edwardmcdugald/Research/convection_patterns_wip/code/ml_experiments')\n",
    "from myPDEFIND import *\n",
    "\n",
    "data = sio.loadmat(\"/Users/edwardmcdugald/Research/convection_patterns_wip/code/data/SHAutoEncode_3.mat\")\n",
    "fig, ax = plt.subplots(nrows=1, ncols=1, figsize=(3,3))\n",
    "ax.imshow(data['uu'][500,:,:])\n",
    "\n",
    "xx = data['xx'][::8]\n",
    "yy = data['yy'][::8]\n",
    "X,Y = np.meshgrid(xx,yy)\n",
    "nx = len(xx)\n",
    "ny = len(yy)\n",
    "sq_len = xx[len(xx)-1]\n",
    "\n",
    "surf = gen_sigma(sq_len,X,Y,.9,50)\n",
    "fig, ax = plt.subplots(nrows=1, ncols=1, figsize=(3,3))\n",
    "ax.imshow(surf)\n",
    "\n",
    "fig = plt.figure()\n",
    "ax = plt.axes(projection='3d')\n",
    "\n",
    "ax.plot_surface(X, Y, surf,cmap='viridis', edgecolor='none')\n",
    "print(np.min(surf))\n",
    "print(np.max(surf))\n",
    "print(np.shape(surf))\n",
    "print(np.shape(np.where(surf>.99)))\n",
    "print(np.shape(surf[12:20,12:20]))\n",
    "print(np.sum(surf[12:20,12:20]))"
   ],
   "metadata": {
    "collapsed": false
   }
  },
  {
   "cell_type": "code",
   "execution_count": 2,
   "outputs": [],
   "source": [],
   "metadata": {
    "collapsed": false
   }
  },
  {
   "cell_type": "code",
   "execution_count": null,
   "outputs": [],
   "source": [],
   "metadata": {
    "collapsed": false
   }
  }
 ],
 "metadata": {
  "kernelspec": {
   "display_name": "Python 3",
   "language": "python",
   "name": "python3"
  },
  "language_info": {
   "codemirror_mode": {
    "name": "ipython",
    "version": 2
   },
   "file_extension": ".py",
   "mimetype": "text/x-python",
   "name": "python",
   "nbconvert_exporter": "python",
   "pygments_lexer": "ipython2",
   "version": "2.7.6"
  }
 },
 "nbformat": 4,
 "nbformat_minor": 0
}
