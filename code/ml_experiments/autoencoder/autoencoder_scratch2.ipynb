{
 "cells": [
  {
   "cell_type": "code",
   "execution_count": null,
   "outputs": [],
   "source": [
    "import scipy.io as sio\n",
    "import numpy as np\n",
    "import sys\n",
    "import matplotlib.pyplot as plt\n",
    "sys.path.append('/Users/edwardmcdugald/Research/convection_patterns_wip/code/ml_experiments')\n",
    "from myPDEFIND import *\n",
    "sys.path.append('/Users/edwardmcdugald/Research/convection_patterns_wip/code/numerics')\n",
    "\n",
    "data = sio.loadmat(\"/Users/edwardmcdugald/Research/convection_patterns_wip/code/data/SHAutoEncode_2.mat\")\n",
    "fig, ax = plt.subplots(nrows=1, ncols=1, figsize=(3,3))\n",
    "ax.imshow(data['uu'][:,:,500].T)\n",
    "\n",
    "tt = data['tt'][0][1:] #TVALUES, EXCLUDING FIRST ONE\n",
    "xx = data['xx']\n",
    "yy = data['yy']\n",
    "U = data['uu'][:,:,1:] #TAKE LAST 1000 U surfaces\n",
    "dt = data['tt'][0][1]-data['tt'][0][0]\n",
    "Ut = BackwardDiff(U,data['uu'][:,:,0:1000],dt) #Compute U derivatives\n",
    "n_samples = len(tt)\n",
    "N = len(xx)*len(yy)\n",
    "perm = np.random.permutation(int(.9*n_samples))\n",
    "training_samples = perm[:int(.8*n_samples)]\n",
    "val_samples = perm[int(.8*n_samples):]\n",
    "test_samples = np.arange(int(.9*n_samples), n_samples)\n",
    "\n",
    "training_data = {'tt': tt[training_samples],\n",
    "                     'xx': xx.T,\n",
    "                     'yy': yy.T,\n",
    "                     'U': U[:,:,training_samples],\n",
    "                     'Ut': Ut[:,:,training_samples]}\n",
    "val_data = {'tt': tt[val_samples],\n",
    "                'xx': xx.T,\n",
    "                'yy': yy.T,\n",
    "                'U': U[:,:,val_samples],\n",
    "                'Ut': Ut[:,:,val_samples]}\n",
    "test_data = {'tt': tt[test_samples],\n",
    "                 'xx': xx.T,\n",
    "                 'yy': yy.T,\n",
    "                 'U': U[:,:,test_samples],\n",
    "                 'Ut': Ut[:,:,test_samples]}\n"
   ],
   "metadata": {
    "collapsed": false
   }
  },
  {
   "cell_type": "code",
   "execution_count": null,
   "outputs": [],
   "source": [
    "import tensorflow as tf"
   ],
   "metadata": {
    "collapsed": false
   }
  }
 ],
 "metadata": {
  "kernelspec": {
   "display_name": "Python 3",
   "language": "python",
   "name": "python3"
  },
  "language_info": {
   "codemirror_mode": {
    "name": "ipython",
    "version": 2
   },
   "file_extension": ".py",
   "mimetype": "text/x-python",
   "name": "python",
   "nbconvert_exporter": "python",
   "pygments_lexer": "ipython2",
   "version": "2.7.6"
  }
 },
 "nbformat": 4,
 "nbformat_minor": 0
}
